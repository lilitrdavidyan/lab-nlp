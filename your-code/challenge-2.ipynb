{
 "cells": [
  {
   "cell_type": "markdown",
   "metadata": {},
   "source": [
    "# Challenge 2: Sentiment Analysis\n",
    "\n",
    "In this challenge we will learn sentiment analysis and practice performing sentiment analysis on Twitter tweets. \n",
    "\n",
    "## Introduction\n",
    "\n",
    "Sentiment analysis is to *systematically identify, extract, quantify, and study affective states and subjective information* based on texts ([reference](https://en.wikipedia.org/wiki/Sentiment_analysis)). In simple words, it's to understand whether a person is happy or unhappy in producing the piece of text. Why we (or rather, companies) care about sentiment in texts? It's because by understanding the sentiments in texts, we will be able to know if our customers are happy or unhappy about our products and services. If they are unhappy, the subsequent action is to figure out what have caused the unhappiness and make improvements.\n",
    "\n",
    "Basic sentiment analysis only understands the *positive* or *negative* (sometimes *neutral* too) polarities of the sentiment. More advanced sentiment analysis will also consider dimensions such as agreement, subjectivity, confidence, irony, and so on. In this challenge we will conduct the basic positive vs negative sentiment analysis based on real Twitter tweets.\n",
    "\n",
    "NLTK comes with a [sentiment analysis package](https://www.nltk.org/api/nltk.sentiment.html). This package is great for dummies to perform sentiment analysis because it requires only the textual data to make predictions. For example:\n",
    "\n",
    "```python\n",
    ">>> from nltk.sentiment.vader import SentimentIntensityAnalyzer\n",
    ">>> txt = \"Ironhack is a Global Tech School ranked num 2 worldwide.  ",
    " ",
    "Our mission is to help people transform their careers and join a thriving community of tech professionals that love what they do.\"\n",
    ">>> analyzer = SentimentIntensityAnalyzer()\n",
    ">>> analyzer.polarity_scores(txt)\n",
    "{'neg': 0.0, 'neu': 0.741, 'pos': 0.259, 'compound': 0.8442}\n",
    "```\n",
    "\n",
    "In this challenge, however, you will not use NLTK's sentiment analysis package because in your Machine Learning training in the past 2 weeks you have learned how to make predictions more accurate than that. The [tweets data](https://www.kaggle.com/kazanova/sentiment140) we will be using today are already coded for the positive/negative sentiment. You will be able to use the Naïve Bayes classifier you learned in the lesson to predict the sentiment of tweets based on the labels."
   ]
  },
  {
   "cell_type": "markdown",
   "metadata": {},
   "source": [
    "## Conducting Sentiment Analysis\n",
    "\n",
    "### Loading and Exploring Data\n",
    "\n",
    "The dataset we'll be using today is located on Kaggle (https://www.kaggle.com/kazanova/sentiment140). Once you have downloaded and imported the dataset, it you will need to define the columns names: df.columns = ['target','id','date','flag','user','text']\n",
    "\n",
    "*Notes:* \n",
    "\n",
    "* The dataset is huuuuge (1.6m tweets). When you develop your data analysis codes, you can sample a subset of the data (e.g. 20k records) so that you will save a lot of time when you test your codes."
   ]
  },
  {
   "cell_type": "code",
   "execution_count": 1,
   "metadata": {},
   "outputs": [
    {
     "data": {
      "text/html": [
       "<div>\n",
       "<style scoped>\n",
       "    .dataframe tbody tr th:only-of-type {\n",
       "        vertical-align: middle;\n",
       "    }\n",
       "\n",
       "    .dataframe tbody tr th {\n",
       "        vertical-align: top;\n",
       "    }\n",
       "\n",
       "    .dataframe thead th {\n",
       "        text-align: right;\n",
       "    }\n",
       "</style>\n",
       "<table border=\"1\" class=\"dataframe\">\n",
       "  <thead>\n",
       "    <tr style=\"text-align: right;\">\n",
       "      <th></th>\n",
       "      <th>target</th>\n",
       "      <th>id</th>\n",
       "      <th>date</th>\n",
       "      <th>flag</th>\n",
       "      <th>user</th>\n",
       "      <th>text</th>\n",
       "    </tr>\n",
       "  </thead>\n",
       "  <tbody>\n",
       "    <tr>\n",
       "      <th>595216</th>\n",
       "      <td>0</td>\n",
       "      <td>2218712325</td>\n",
       "      <td>Wed Jun 17 23:00:15 PDT 2009</td>\n",
       "      <td>NO_QUERY</td>\n",
       "      <td>Sabri32</td>\n",
       "      <td>@Solarica96 oh ok, yeah there is absolutely no...</td>\n",
       "    </tr>\n",
       "    <tr>\n",
       "      <th>1365402</th>\n",
       "      <td>4</td>\n",
       "      <td>2049951090</td>\n",
       "      <td>Fri Jun 05 17:47:40 PDT 2009</td>\n",
       "      <td>NO_QUERY</td>\n",
       "      <td>essencerenata</td>\n",
       "      <td>@BlackDreams glad to hear that the shoot went ...</td>\n",
       "    </tr>\n",
       "    <tr>\n",
       "      <th>88689</th>\n",
       "      <td>0</td>\n",
       "      <td>1754986861</td>\n",
       "      <td>Sun May 10 07:57:15 PDT 2009</td>\n",
       "      <td>NO_QUERY</td>\n",
       "      <td>joannasas</td>\n",
       "      <td>My bestfriend's getting addicted to Facebook's...</td>\n",
       "    </tr>\n",
       "    <tr>\n",
       "      <th>957234</th>\n",
       "      <td>4</td>\n",
       "      <td>1825414362</td>\n",
       "      <td>Sun May 17 05:36:50 PDT 2009</td>\n",
       "      <td>NO_QUERY</td>\n",
       "      <td>CharlieAndMe</td>\n",
       "      <td>@hotmamabrew we all need some support in our l...</td>\n",
       "    </tr>\n",
       "    <tr>\n",
       "      <th>756469</th>\n",
       "      <td>0</td>\n",
       "      <td>2288736919</td>\n",
       "      <td>Mon Jun 22 19:33:06 PDT 2009</td>\n",
       "      <td>NO_QUERY</td>\n",
       "      <td>consciousdear88</td>\n",
       "      <td>Still can't make him happy.</td>\n",
       "    </tr>\n",
       "  </tbody>\n",
       "</table>\n",
       "</div>"
      ],
      "text/plain": [
       "         target          id                          date      flag  \\\n",
       "595216        0  2218712325  Wed Jun 17 23:00:15 PDT 2009  NO_QUERY   \n",
       "1365402       4  2049951090  Fri Jun 05 17:47:40 PDT 2009  NO_QUERY   \n",
       "88689         0  1754986861  Sun May 10 07:57:15 PDT 2009  NO_QUERY   \n",
       "957234        4  1825414362  Sun May 17 05:36:50 PDT 2009  NO_QUERY   \n",
       "756469        0  2288736919  Mon Jun 22 19:33:06 PDT 2009  NO_QUERY   \n",
       "\n",
       "                    user                                               text  \n",
       "595216           Sabri32  @Solarica96 oh ok, yeah there is absolutely no...  \n",
       "1365402    essencerenata  @BlackDreams glad to hear that the shoot went ...  \n",
       "88689          joannasas  My bestfriend's getting addicted to Facebook's...  \n",
       "957234      CharlieAndMe  @hotmamabrew we all need some support in our l...  \n",
       "756469   consciousdear88                       Still can't make him happy.   "
      ]
     },
     "execution_count": 1,
     "metadata": {},
     "output_type": "execute_result"
    }
   ],
   "source": [
    "import pandas as pd\n",
    "\n",
    "# Define the column names\n",
    "column_names = ['target', 'id', 'date', 'flag', 'user', 'text']\n",
    "\n",
    "# Load the dataset\n",
    "file_path = 'training.1600000.processed.noemoticon.csv' \n",
    "data = pd.read_csv(file_path, encoding='ISO-8859-1', names=column_names)\n",
    "df = data.sample(20000)\n",
    "\n",
    "# Display the first few rows of the dataframe\n",
    "df.head()"
   ]
  },
  {
   "cell_type": "markdown",
   "metadata": {},
   "source": [
    "### Prepare Textual Data for Sentiment Analysis\n",
    "\n",
    "Now, apply the functions you have written in Challenge 1 to your whole data set. These functions include:\n",
    "\n",
    "* `clean_up()`\n",
    "\n",
    "* `tokenize()`\n",
    "\n",
    "* `stem_and_lemmatize()`\n",
    "\n",
    "* `remove_stopwords()`\n",
    "\n",
    "Create a new column called `text_processed` in the dataframe to contain the processed data. At the end, your `text_processed` column should contain lists of word tokens that are cleaned up. Your data should look like below:\n",
    "\n",
    "![Processed Data](data-cleaning-results.png)"
   ]
  },
  {
   "cell_type": "code",
   "execution_count": 2,
   "metadata": {},
   "outputs": [],
   "source": [
    "def process_text(text):\n",
    "    # Clean up the text\n",
    "    text = clean_up(text)\n",
    "    \n",
    "    # Tokenize the text\n",
    "    tokens = tokenize(text)\n",
    "    \n",
    "    # Stem and Lemmatize the tokens\n",
    "    tokens = stem_and_lemmatize(tokens)\n",
    "    \n",
    "    # Remove Stop Words from the tokens\n",
    "    tokens = remove_stopwords(tokens)\n",
    "    \n",
    "    return tokens"
   ]
  },
  {
   "cell_type": "code",
   "execution_count": 3,
   "metadata": {},
   "outputs": [],
   "source": [
    "import re\n",
    "\n",
    "def clean_up(s):\n",
    "    \"\"\"\n",
    "    Cleans up numbers, URLs, and special characters from a string.\n",
    "\n",
    "    Args:\n",
    "        s: The string to be cleaned up.\n",
    "\n",
    "    Returns:\n",
    "        A string that has been cleaned up.\n",
    "    \"\"\"\n",
    "    # Removing URLs\n",
    "    s = re.sub(r'http\\S+|www.\\S+', '', s)\n",
    "    \n",
    "    # Replacing numbers and special characters with a whitespace\n",
    "    s = re.sub(r'[^a-zA-Z\\s]', ' ', s)\n",
    "    \n",
    "    # Converting to lowercase\n",
    "    s = s.lower()\n",
    "    \n",
    "    return s"
   ]
  },
  {
   "cell_type": "code",
   "execution_count": 4,
   "metadata": {},
   "outputs": [],
   "source": [
    "import nltk\n",
    "\n",
    "def tokenize(s):\n",
    "    \"\"\"\n",
    "    Tokenize a string.\n",
    "\n",
    "    Args:\n",
    "        s: String to be tokenized.\n",
    "\n",
    "    Returns:\n",
    "        A list of words as the result of tokenization.\n",
    "    \"\"\"\n",
    "    \n",
    "    # Using NLTK's word_tokenize function to tokenize the string\n",
    "    return nltk.word_tokenize(s)"
   ]
  },
  {
   "cell_type": "code",
   "execution_count": 5,
   "metadata": {},
   "outputs": [],
   "source": [
    "from nltk.stem import PorterStemmer, WordNetLemmatizer\n",
    "\n",
    "\n",
    "\n",
    "def stem_and_lemmatize(l):\n",
    "    \"\"\"\n",
    "    Perform stemming and lemmatization on a list of words.\n",
    "\n",
    "    Args:\n",
    "        l: A list of strings.\n",
    "\n",
    "    Returns:\n",
    "        A list of strings after being stemmed and lemmatized.\n",
    "    \"\"\"\n",
    "    \n",
    "    # Initializing the stemmer and lemmatizer\n",
    "    stemmer = PorterStemmer()\n",
    "    lemmatizer = WordNetLemmatizer()\n",
    "\n",
    "    stemmed = [stemmer.stem(word) for word in l]\n",
    "    lemmatized = [lemmatizer.lemmatize(word) for word in l]\n",
    "\n",
    "    \n",
    "    return lemmatized\n"
   ]
  },
  {
   "cell_type": "code",
   "execution_count": 6,
   "metadata": {},
   "outputs": [],
   "source": [
    "from nltk.corpus import stopwords\n",
    "\n",
    "def remove_stopwords(tokens):\n",
    "    \"\"\"\n",
    "    Remove English stopwords from a list of strings.\n",
    "\n",
    "    Args:\n",
    "        tokens: A list of strings.\n",
    "\n",
    "    Returns:\n",
    "        A list of strings after stop words are removed.\n",
    "    \"\"\"\n",
    "    # Getting the English stop words from nltk\n",
    "    stop_words = set(stopwords.words('english'))\n",
    "    \n",
    "    # Returning a list of tokens which are not stop words\n",
    "    return [token for token in tokens if token not in stop_words]\n"
   ]
  },
  {
   "cell_type": "code",
   "execution_count": 7,
   "metadata": {},
   "outputs": [],
   "source": [
    "# Applying the processing function to the 'text' column and creating a new 'text_processed' column\n",
    "df['text_processed'] = df['text'].apply(process_text)"
   ]
  },
  {
   "cell_type": "code",
   "execution_count": 8,
   "metadata": {},
   "outputs": [
    {
     "data": {
      "text/html": [
       "<div>\n",
       "<style scoped>\n",
       "    .dataframe tbody tr th:only-of-type {\n",
       "        vertical-align: middle;\n",
       "    }\n",
       "\n",
       "    .dataframe tbody tr th {\n",
       "        vertical-align: top;\n",
       "    }\n",
       "\n",
       "    .dataframe thead th {\n",
       "        text-align: right;\n",
       "    }\n",
       "</style>\n",
       "<table border=\"1\" class=\"dataframe\">\n",
       "  <thead>\n",
       "    <tr style=\"text-align: right;\">\n",
       "      <th></th>\n",
       "      <th>target</th>\n",
       "      <th>id</th>\n",
       "      <th>date</th>\n",
       "      <th>flag</th>\n",
       "      <th>user</th>\n",
       "      <th>text</th>\n",
       "      <th>text_processed</th>\n",
       "    </tr>\n",
       "  </thead>\n",
       "  <tbody>\n",
       "    <tr>\n",
       "      <th>595216</th>\n",
       "      <td>0</td>\n",
       "      <td>2218712325</td>\n",
       "      <td>Wed Jun 17 23:00:15 PDT 2009</td>\n",
       "      <td>NO_QUERY</td>\n",
       "      <td>Sabri32</td>\n",
       "      <td>@Solarica96 oh ok, yeah there is absolutely no...</td>\n",
       "      <td>[solarica, oh, ok, yeah, absolutely, way, mine...</td>\n",
       "    </tr>\n",
       "    <tr>\n",
       "      <th>1365402</th>\n",
       "      <td>4</td>\n",
       "      <td>2049951090</td>\n",
       "      <td>Fri Jun 05 17:47:40 PDT 2009</td>\n",
       "      <td>NO_QUERY</td>\n",
       "      <td>essencerenata</td>\n",
       "      <td>@BlackDreams glad to hear that the shoot went ...</td>\n",
       "      <td>[blackdreams, glad, hear, shoot, went, great, ...</td>\n",
       "    </tr>\n",
       "    <tr>\n",
       "      <th>88689</th>\n",
       "      <td>0</td>\n",
       "      <td>1754986861</td>\n",
       "      <td>Sun May 10 07:57:15 PDT 2009</td>\n",
       "      <td>NO_QUERY</td>\n",
       "      <td>joannasas</td>\n",
       "      <td>My bestfriend's getting addicted to Facebook's...</td>\n",
       "      <td>[bestfriend, getting, addicted, facebook, pet,...</td>\n",
       "    </tr>\n",
       "    <tr>\n",
       "      <th>957234</th>\n",
       "      <td>4</td>\n",
       "      <td>1825414362</td>\n",
       "      <td>Sun May 17 05:36:50 PDT 2009</td>\n",
       "      <td>NO_QUERY</td>\n",
       "      <td>CharlieAndMe</td>\n",
       "      <td>@hotmamabrew we all need some support in our l...</td>\n",
       "      <td>[hotmamabrew, need, support, life, always, nic...</td>\n",
       "    </tr>\n",
       "    <tr>\n",
       "      <th>756469</th>\n",
       "      <td>0</td>\n",
       "      <td>2288736919</td>\n",
       "      <td>Mon Jun 22 19:33:06 PDT 2009</td>\n",
       "      <td>NO_QUERY</td>\n",
       "      <td>consciousdear88</td>\n",
       "      <td>Still can't make him happy.</td>\n",
       "      <td>[still, make, happy]</td>\n",
       "    </tr>\n",
       "  </tbody>\n",
       "</table>\n",
       "</div>"
      ],
      "text/plain": [
       "         target          id                          date      flag  \\\n",
       "595216        0  2218712325  Wed Jun 17 23:00:15 PDT 2009  NO_QUERY   \n",
       "1365402       4  2049951090  Fri Jun 05 17:47:40 PDT 2009  NO_QUERY   \n",
       "88689         0  1754986861  Sun May 10 07:57:15 PDT 2009  NO_QUERY   \n",
       "957234        4  1825414362  Sun May 17 05:36:50 PDT 2009  NO_QUERY   \n",
       "756469        0  2288736919  Mon Jun 22 19:33:06 PDT 2009  NO_QUERY   \n",
       "\n",
       "                    user                                               text  \\\n",
       "595216           Sabri32  @Solarica96 oh ok, yeah there is absolutely no...   \n",
       "1365402    essencerenata  @BlackDreams glad to hear that the shoot went ...   \n",
       "88689          joannasas  My bestfriend's getting addicted to Facebook's...   \n",
       "957234      CharlieAndMe  @hotmamabrew we all need some support in our l...   \n",
       "756469   consciousdear88                       Still can't make him happy.    \n",
       "\n",
       "                                            text_processed  \n",
       "595216   [solarica, oh, ok, yeah, absolutely, way, mine...  \n",
       "1365402  [blackdreams, glad, hear, shoot, went, great, ...  \n",
       "88689    [bestfriend, getting, addicted, facebook, pet,...  \n",
       "957234   [hotmamabrew, need, support, life, always, nic...  \n",
       "756469                                [still, make, happy]  "
      ]
     },
     "execution_count": 8,
     "metadata": {},
     "output_type": "execute_result"
    }
   ],
   "source": [
    "df.head()"
   ]
  },
  {
   "cell_type": "markdown",
   "metadata": {},
   "source": [
    "### Creating Bag of Words\n",
    "\n",
    "The purpose of this step is to create a [bag of words](https://en.wikipedia.org/wiki/Bag-of-words_model) from the processed data. The bag of words contains all the unique words in your whole text body (a.k.a. *corpus*) with the number of occurrence of each word. It will allow you to understand which words are the most important features across the whole corpus.\n",
    "\n",
    "Also, you can imagine you will have a massive set of words. The less important words (i.e. those of very low number of occurrence) do not contribute much to the sentiment. Therefore, you only need to use the most important words to build your feature set in the next step. In our case, we will use the top 5,000 words with the highest frequency to build the features.\n",
    "\n",
    "In the cell below, combine all the words in `text_processed` and calculate the frequency distribution of all words. A convenient library to calculate the term frequency distribution is NLTK's `FreqDist` class ([documentation](https://www.nltk.org/api/nltk.html#module-nltk.probability)). Then select the top 5,000 words from the frequency distribution."
   ]
  },
  {
   "cell_type": "code",
   "execution_count": 9,
   "metadata": {},
   "outputs": [],
   "source": [
    "import itertools\n",
    "\n",
    "# Combine all the words in 'text_processed' column\n",
    "all_words = list(itertools.chain(*df['text_processed']))\n"
   ]
  },
  {
   "cell_type": "code",
   "execution_count": 10,
   "metadata": {},
   "outputs": [],
   "source": [
    "import nltk\n",
    "\n",
    "# Calculate the frequency distribution of all words\n",
    "freq_dist = nltk.FreqDist(all_words)"
   ]
  },
  {
   "cell_type": "code",
   "execution_count": 11,
   "metadata": {},
   "outputs": [],
   "source": [
    "# Select the top 5,000 words\n",
    "top_words = [word for word, count in freq_dist.most_common(5000)]"
   ]
  },
  {
   "cell_type": "code",
   "execution_count": 12,
   "metadata": {},
   "outputs": [
    {
     "name": "stdout",
     "output_type": "stream",
     "text": [
      "['day', 'wa', 'good', 'get', 'like', 'go', 'u', 'got', 'today', 'quot']\n"
     ]
    }
   ],
   "source": [
    "print(top_words[:10])"
   ]
  },
  {
   "cell_type": "code",
   "execution_count": null,
   "metadata": {},
   "outputs": [],
   "source": []
  },
  {
   "cell_type": "markdown",
   "metadata": {},
   "source": [
    "### Building Features\n",
    "\n",
    "Now let's build the features. Using the top 5,000 words, create a 2-dimensional matrix to record whether each of those words is contained in each document (tweet). Then you also have an output column to indicate whether the sentiment in each tweet is positive. For example, assuming your bag of words has 5 items (`['one', 'two', 'three', 'four', 'five']`) out of 4 documents (`['A', 'B', 'C', 'D']`), your feature set is essentially:\n",
    "\n",
    "| Doc | one | two | three | four | five | is_positive |\n",
    "|---|---|---|---|---|---|---|\n",
    "| A | True | False | False | True | False | True |\n",
    "| B | False | False | False | True | True | False |\n",
    "| C | False | True | False | False | False | True |\n",
    "| D | True | False | False | False | True | False|\n",
    "\n",
    "However, because the `nltk.NaiveBayesClassifier.train` class we will use in the next step does not work with Pandas dataframe, the structure of your feature set should be converted to the Python list looking like below:\n",
    "\n",
    "```python\n",
    "[\n",
    "\t({\n",
    "\t\t'one': True,\n",
    "\t\t'two': False,\n",
    "\t\t'three': False,\n",
    "\t\t'four': True,\n",
    "\t\t'five': False\n",
    "\t}, True),\n",
    "\t({\n",
    "\t\t'one': False,\n",
    "\t\t'two': False,\n",
    "\t\t'three': False,\n",
    "\t\t'four': True,\n",
    "\t\t'five': True\n",
    "\t}, False),\n",
    "\t({\n",
    "\t\t'one': False,\n",
    "\t\t'two': True,\n",
    "\t\t'three': False,\n",
    "\t\t'four': False,\n",
    "\t\t'five': False\n",
    "\t}, True),\n",
    "\t({\n",
    "\t\t'one': True,\n",
    "\t\t'two': False,\n",
    "\t\t'three': False,\n",
    "\t\t'four': False,\n",
    "\t\t'five': True\n",
    "\t}, False)\n",
    "]\n",
    "```\n",
    "\n",
    "To help you in this step, watch the [following video](https://www.youtube.com/watch?v=-vVskDsHcVc) to learn how to build the feature set with Python and NLTK. The source code in this video can be found [here](https://pythonprogramming.net/words-as-features-nltk-tutorial/)."
   ]
  },
  {
   "cell_type": "markdown",
   "metadata": {},
   "source": [
    "[![Building Features](building-features.jpg)](https://www.youtube.com/watch?v=-vVskDsHcVc)"
   ]
  },
  {
   "cell_type": "code",
   "execution_count": 13,
   "metadata": {},
   "outputs": [],
   "source": [
    "def build_features(document, bag_of_words):\n",
    "    document_words = set(document)\n",
    "    features = {}\n",
    "    for word in bag_of_words:\n",
    "        features[word] = (word in document_words)\n",
    "    return features\n"
   ]
  },
  {
   "cell_type": "code",
   "execution_count": 14,
   "metadata": {},
   "outputs": [],
   "source": [
    "feature_set = [(build_features(doc, top_words), (target == 4)) for index, (doc, target) in df[['text_processed', 'target']].iterrows()]\n"
   ]
  },
  {
   "cell_type": "code",
   "execution_count": 15,
   "metadata": {
    "scrolled": true
   },
   "outputs": [],
   "source": [
    "# feature_set"
   ]
  },
  {
   "cell_type": "markdown",
   "metadata": {},
   "source": [
    "### Building and Traininng Naive Bayes Model\n",
    "\n",
    "In this step you will split your feature set into a training and a test set. Then you will create a Bayes classifier instance using `nltk.NaiveBayesClassifier.train` ([example](https://www.nltk.org/book/ch06.html)) to train with the training dataset.\n",
    "\n",
    "After training the model, call `classifier.show_most_informative_features()` to inspect the most important features. The output will look like:\n",
    "\n",
    "```\n",
    "Most Informative Features\n",
    "\t    snow = True            False : True   =     34.3 : 1.0\n",
    "\t  easter = True            False : True   =     26.2 : 1.0\n",
    "\t headach = True            False : True   =     20.9 : 1.0\n",
    "\t    argh = True            False : True   =     17.6 : 1.0\n",
    "\tunfortun = True            False : True   =     16.9 : 1.0\n",
    "\t    jona = True             True : False  =     16.2 : 1.0\n",
    "\t     ach = True            False : True   =     14.9 : 1.0\n",
    "\t     sad = True            False : True   =     13.0 : 1.0\n",
    "\t  parent = True            False : True   =     12.9 : 1.0\n",
    "\t  spring = True            False : True   =     12.7 : 1.0\n",
    "```\n",
    "\n",
    "The [following video](https://www.youtube.com/watch?v=rISOsUaTrO4) will help you complete this step. The source code in this video can be found [here](https://pythonprogramming.net/naive-bayes-classifier-nltk-tutorial/)."
   ]
  },
  {
   "cell_type": "markdown",
   "metadata": {},
   "source": [
    "[![Building and Training NB](nb-model-building.jpg)](https://www.youtube.com/watch?v=rISOsUaTrO4)"
   ]
  },
  {
   "cell_type": "code",
   "execution_count": 16,
   "metadata": {},
   "outputs": [],
   "source": [
    "# Define the proportion of data to be used for training\n",
    "train_proportion = 0.8\n",
    "train_size = int(len(feature_set) * train_proportion)\n",
    "\n",
    "train_set, test_set = feature_set[:train_size], feature_set[train_size:]\n"
   ]
  },
  {
   "cell_type": "code",
   "execution_count": 17,
   "metadata": {},
   "outputs": [],
   "source": [
    "classifier = nltk.NaiveBayesClassifier.train(train_set)"
   ]
  },
  {
   "cell_type": "code",
   "execution_count": 18,
   "metadata": {},
   "outputs": [
    {
     "name": "stdout",
     "output_type": "stream",
     "text": [
      "Most Informative Features\n",
      "                headache = True            False : True   =     24.4 : 1.0\n",
      "                     sad = True            False : True   =     24.4 : 1.0\n",
      "                   upset = True            False : True   =     15.5 : 1.0\n",
      "                    died = True            False : True   =     15.3 : 1.0\n",
      "           unfortunately = True            False : True   =     13.3 : 1.0\n",
      "                     vip = True             True : False  =     13.1 : 1.0\n",
      "                    poor = True            False : True   =     13.1 : 1.0\n",
      "                   dying = True            False : True   =     12.9 : 1.0\n",
      "                    nose = True            False : True   =     12.9 : 1.0\n",
      "                     rip = True            False : True   =     12.9 : 1.0\n",
      "                  throat = True            False : True   =     12.9 : 1.0\n",
      "               hilarious = True             True : False  =     12.4 : 1.0\n",
      "                   smile = True             True : False  =     12.3 : 1.0\n",
      "            disappointed = True            False : True   =     12.2 : 1.0\n",
      "                  broken = True            False : True   =     12.1 : 1.0\n",
      "                fabulous = True             True : False  =     11.8 : 1.0\n",
      "                sometime = True             True : False  =     11.1 : 1.0\n",
      "                 history = True            False : True   =     10.9 : 1.0\n",
      "                  killed = True            False : True   =     10.9 : 1.0\n",
      "                     cry = True            False : True   =     10.7 : 1.0\n",
      "                  indeed = True             True : False  =     10.4 : 1.0\n",
      "                    sore = True            False : True   =     10.3 : 1.0\n",
      "                  stupid = True            False : True   =     10.3 : 1.0\n",
      "            followfriday = True             True : False  =     10.3 : 1.0\n",
      "                    sick = True            False : True   =      9.9 : 1.0\n",
      "                   stuck = True            False : True   =      9.8 : 1.0\n",
      "                  ruined = True            False : True   =      9.6 : 1.0\n",
      "                    hurt = True            False : True   =      9.2 : 1.0\n",
      "             dougiemcfly = True             True : False  =      9.1 : 1.0\n",
      "                   miley = True             True : False  =      9.1 : 1.0\n",
      "                   worst = True            False : True   =      8.9 : 1.0\n",
      "                 blocked = True            False : True   =      8.9 : 1.0\n",
      "                     fml = True            False : True   =      8.9 : 1.0\n",
      "                    grrr = True            False : True   =      8.9 : 1.0\n",
      "                  bummed = True            False : True   =      8.5 : 1.0\n",
      "                   sadly = True            False : True   =      8.5 : 1.0\n",
      "                  failed = True            False : True   =      8.3 : 1.0\n",
      "                   thank = True             True : False  =      8.2 : 1.0\n",
      "                    pain = True            False : True   =      8.2 : 1.0\n",
      "                  father = True            False : True   =      8.1 : 1.0\n",
      "                   tummy = True            False : True   =      8.1 : 1.0\n",
      "              appreciate = True             True : False  =      7.7 : 1.0\n",
      "          congratulation = True             True : False  =      7.7 : 1.0\n",
      "                    hows = True             True : False  =      7.7 : 1.0\n",
      "                     ear = True            False : True   =      7.7 : 1.0\n",
      "                  bummer = True            False : True   =      7.6 : 1.0\n",
      "                     tht = True            False : True   =      7.6 : 1.0\n",
      "                  thanks = True             True : False  =      7.5 : 1.0\n",
      "                 missing = True            False : True   =      7.5 : 1.0\n",
      "                    hehe = True             True : False  =      7.2 : 1.0\n"
     ]
    }
   ],
   "source": [
    "classifier.show_most_informative_features(50)"
   ]
  },
  {
   "cell_type": "code",
   "execution_count": 25,
   "metadata": {},
   "outputs": [
    {
     "name": "stdout",
     "output_type": "stream",
     "text": [
      "Balance in the whole dataset:\n",
      "target\n",
      "0    800000\n",
      "4    800000\n",
      "Name: count, dtype: int64\n",
      "target\n",
      "0    10042\n",
      "4     9958\n",
      "Name: count, dtype: int64\n"
     ]
    }
   ],
   "source": [
    "print(\"Balance in the whole dataset:\")\n",
    "print(data['target'].value_counts())\n",
    "print(df['target'].value_counts())"
   ]
  },
  {
   "cell_type": "markdown",
   "metadata": {},
   "source": [
    "### Testing Naive Bayes Model\n",
    "\n",
    "Now we'll test our classifier with the test dataset. This is done by calling `nltk.classify.accuracy(classifier, test)`.\n",
    "\n",
    "As mentioned in one of the tutorial videos, a Naive Bayes model is considered OK if your accuracy score is over 0.6. If your accuracy score is over 0.7, you've done a great job!"
   ]
  },
  {
   "cell_type": "code",
   "execution_count": 26,
   "metadata": {},
   "outputs": [
    {
     "name": "stdout",
     "output_type": "stream",
     "text": [
      "Model Accuracy: 0.72575\n"
     ]
    }
   ],
   "source": [
    "# Calculate the accuracy of the classifier on the test set\n",
    "accuracy = nltk.classify.accuracy(classifier, test_set)\n",
    "print(f\"Model Accuracy: {accuracy}\")"
   ]
  },
  {
   "cell_type": "markdown",
   "metadata": {},
   "source": [
    "## Bonus Question 1: Improve Model Performance\n",
    "\n",
    "If you are still not exhausted so far and want to dig deeper, try to improve your classifier performance. There are many aspects you can dig into, for example:\n",
    "\n",
    "* Improve stemming and lemmatization. Inspect your bag of words and the most important features. Are there any words you should furuther remove from analysis? You can append these words to further remove to the stop words list.\n",
    "\n",
    "* Remember we only used the top 5,000 features to build model? Try using different numbers of top features. The bottom line is to use as few features as you can without compromising your model performance. The fewer features you select into your model, the faster your model is trained. Then you can use a larger sample size to improve your model accuracy score."
   ]
  },
  {
   "cell_type": "code",
   "execution_count": 27,
   "metadata": {},
   "outputs": [
    {
     "name": "stdout",
     "output_type": "stream",
     "text": [
      "Number of Features: 3000, Model Accuracy: 0.728\n",
      "Number of Features: 4000, Model Accuracy: 0.7285\n",
      "Number of Features: 5000, Model Accuracy: 0.72575\n",
      "Number of Features: 6000, Model Accuracy: 0.727\n",
      "Number of Features: 7000, Model Accuracy: 0.72825\n"
     ]
    }
   ],
   "source": [
    "for num_features in [3000, 4000, 5000, 6000, 7000]:\n",
    "    # Select the top 'num_features' features\n",
    "    top_words = [word for word, count in freq_dist.most_common(num_features)]\n",
    "    \n",
    "    # Build the feature set\n",
    "    feature_set = [(build_features(doc, top_words), (target == 4)) \n",
    "                   for index, (doc, target) in df[['text_processed', 'target']].iterrows()]\n",
    "    \n",
    "    # Split the dataset and train the model\n",
    "    train_set, test_set = feature_set[:train_size], feature_set[train_size:]\n",
    "    classifier = nltk.NaiveBayesClassifier.train(train_set)\n",
    "    \n",
    "    # Calculate and print the accuracy\n",
    "    accuracy = nltk.classify.accuracy(classifier, test_set)\n",
    "    print(f\"Number of Features: {num_features}, Model Accuracy: {accuracy}\")\n"
   ]
  },
  {
   "cell_type": "markdown",
   "metadata": {},
   "source": [
    "## Bonus Question 2: Machine Learning Pipeline\n",
    "\n",
    "In a new Jupyter Notebook, combine all your codes into a function (or a class). Your new function will execute the complete machine learning pipeline job by receiving the dataset location and output the classifier. This will allow you to use your function to predict the sentiment of any tweet in real time. "
   ]
  },
  {
   "cell_type": "code",
   "execution_count": 22,
   "metadata": {},
   "outputs": [],
   "source": [
    "# your code here"
   ]
  },
  {
   "cell_type": "markdown",
   "metadata": {},
   "source": [
    "## Bonus Question 3: Apache Spark\n",
    "\n",
    "If you have completed the Apache Spark advanced topic lab, what you can do is to migrate your pipeline from local to a Databricks Notebook. Share your notebook with your instructor and classmates to show off your achievements!"
   ]
  },
  {
   "cell_type": "code",
   "execution_count": 23,
   "metadata": {},
   "outputs": [],
   "source": [
    "# your code here"
   ]
  }
 ],
 "metadata": {
  "kernelspec": {
   "display_name": "Python 3 (ipykernel)",
   "language": "python",
   "name": "python3"
  },
  "language_info": {
   "codemirror_mode": {
    "name": "ipython",
    "version": 3
   },
   "file_extension": ".py",
   "mimetype": "text/x-python",
   "name": "python",
   "nbconvert_exporter": "python",
   "pygments_lexer": "ipython3",
   "version": "3.10.9"
  }
 },
 "nbformat": 4,
 "nbformat_minor": 2
}
